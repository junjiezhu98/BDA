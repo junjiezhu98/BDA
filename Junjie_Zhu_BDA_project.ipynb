{
 "cells": [
  {
   "cell_type": "markdown",
   "id": "1fa9db11",
   "metadata": {},
   "source": [
    "## Data Mining, Text Mining and Big Data Analytics\n",
    "### BDA Project\n",
    "### Junjie Zhu_1030002\n",
    "### junjie.zhu3@studio.unibo.it"
   ]
  },
  {
   "cell_type": "markdown",
   "id": "6f568adb",
   "metadata": {},
   "source": [
    "Dataset: Beijing Multi-Site Air-Quality Data.\n",
    "    https://archive.ics.uci.edu/dataset/501/beijing+multi+site+air+quality+data"
   ]
  },
  {
   "cell_type": "markdown",
   "id": "834d8261",
   "metadata": {},
   "source": [
    "W"
   ]
  },
  {
   "cell_type": "code",
   "execution_count": 1,
   "id": "456e6646",
   "metadata": {},
   "outputs": [],
   "source": [
    "# Initialize Spark in Python environment\n",
    "import findspark\n",
    "findspark.init()"
   ]
  },
  {
   "cell_type": "code",
   "execution_count": 2,
   "id": "84b062e6",
   "metadata": {},
   "outputs": [],
   "source": [
    "#Import reference library\n",
    "import os\n",
    "from functools import reduce\n",
    "from pyspark import SparkContext\n",
    "from pyspark.sql import SparkSession\n",
    "from pyspark.sql import DataFrame\n",
    "from pyspark.sql.window import Window\n",
    "from pyspark.sql.types import StructType, StructField, IntegerType, StringType, DoubleType\n",
    "from pyspark.sql.functions import concat_ws,to_timestamp,col,count,when,udf,greatest,expr,array,lit,month,quarter,avg\n",
    "from pyspark.ml.feature import VectorAssembler,StandardScaler,StringIndexer\n",
    "from pyspark.ml.clustering import KMeans, BisectingKMeans\n",
    "from pyspark.ml.regression import DecisionTreeRegressor, RandomForestRegressor, LinearRegression\n",
    "from pyspark.ml.classification import NaiveBayes, DecisionTreeClassifier,RandomForestClassifier,LogisticRegression,MultilayerPerceptronClassifier\n",
    "from pyspark.ml.evaluation import RegressionEvaluator, MulticlassClassificationEvaluator,ClusteringEvaluator\n",
    "\n",
    "import matplotlib.pyplot as plt"
   ]
  },
  {
   "cell_type": "markdown",
   "id": "7c7dfe58",
   "metadata": {},
   "source": [
    "SparkSession is the entry point to any Spark functionality in a Spark application. It provides a way to interact with Spark and allows to create DataFrame, Dataset, and RDD (Resilient Distributed Dataset) objects, which are the core data structures used in Spark."
   ]
  },
  {
   "cell_type": "code",
   "execution_count": 3,
   "id": "8ff16d27",
   "metadata": {},
   "outputs": [],
   "source": [
    "# Initialize a SparkSession with specific configurations for memory allocation and other settings.\n",
    "spark = SparkSession.builder.appName(\"AirQualityAnalysis\").config(\"spark.sql.legacy.timeParserPolicy\", \"LEGACY\")\\\n",
    "                                            .config(\"spark.executor.memory\", \"4g\")\\\n",
    "                                            .config(\"spark.driver.memory\", \"2g\")\\\n",
    "                                            .config(\"spark.executor.cores\", \"2\")\\\n",
    "                                            .getOrCreate()"
   ]
  },
  {
   "cell_type": "code",
   "execution_count": 4,
   "id": "e1d46567",
   "metadata": {},
   "outputs": [],
   "source": [
    "# Read csv data files as dataframe in a fixed type\n",
    "path = \"D:\\\\UNIBO\\\\BigData\\\\data set\\\\beijing+multi+site+air+quality+data\\\\PRSA_Data_20130301-20170228\"\n",
    "\n",
    "df = {}\n",
    "station_name = ['Aotizhongxin','Changping','Dingling','Dongsi','Guanyuan','Gucheng','Huairou','Nongzhanguan','Shunyi','Tiantan','Wanliu','Wanshouxigong']\n",
    "\n",
    "schema = StructType([\n",
    "    StructField(\"No\", IntegerType(), True),\n",
    "    StructField(\"year\", IntegerType(), True),\n",
    "    StructField(\"month\", IntegerType(), True),\n",
    "    StructField(\"day\", IntegerType(), True),\n",
    "    StructField(\"hour\", IntegerType(), True),\n",
    "    StructField(\"PM2.5\", IntegerType(), True),\n",
    "    StructField(\"PM10\", IntegerType(), True),\n",
    "    StructField(\"SO2\", IntegerType(), True),\n",
    "    StructField(\"NO2\", IntegerType(), True),\n",
    "    StructField(\"CO\", IntegerType(), True),\n",
    "    StructField(\"O3\", IntegerType(), True),\n",
    "    StructField(\"TEMP\", DoubleType(), True),\n",
    "    StructField(\"PRES\", DoubleType(), True),\n",
    "    StructField(\"DEWP\", DoubleType(), True),\n",
    "    StructField(\"RAIN\", DoubleType(), True),\n",
    "    StructField(\"wd\", StringType(), True),\n",
    "    StructField(\"WSPM\", DoubleType(), True),\n",
    "    StructField(\"station\", StringType(), True),\n",
    "])\n",
    "\n",
    "for i,filename in enumerate(os.listdir(path)):\n",
    "    if filename.endswith(\".csv\"):\n",
    "        filepath = os.path.join(path, filename)\n",
    "        df[station_name[i]] = spark.read.csv(filepath, header=True, schema=schema)"
   ]
  },
  {
   "cell_type": "markdown",
   "id": "3003fdee",
   "metadata": {},
   "source": [
    "The original data is stored in files of different observation base stations, thus use \"unionByName\" function to merge them into one dataframe. Then rename the PM2.5 column to PM25 to avoid subsequent error."
   ]
  },
  {
   "cell_type": "code",
   "execution_count": 5,
   "id": "93c132c0",
   "metadata": {
    "scrolled": true
   },
   "outputs": [
    {
     "name": "stdout",
     "output_type": "stream",
     "text": [
      "Total rows of data:  420768\n"
     ]
    }
   ],
   "source": [
    "#Merge dataframe\n",
    "def unionByName(*dfs):\n",
    "    return reduce(DataFrame.unionByName, dfs)\n",
    "\n",
    "df_list= list(map(lambda x: x[1], df.items()))\n",
    "dfAll = unionByName(*df_list)\n",
    "dfAll = dfAll.withColumnRenamed( \"PM2.5\" , \"PM25\" )\n",
    "print(\"Total rows of data: \",dfAll.count())"
   ]
  },
  {
   "cell_type": "markdown",
   "id": "912f36cd",
   "metadata": {},
   "source": [
    "The data contains time characteristics, so change the time data into the timestamp format."
   ]
  },
  {
   "cell_type": "code",
   "execution_count": 6,
   "id": "037fe460",
   "metadata": {},
   "outputs": [],
   "source": [
    "# Use the concat_ws() function to combine year, month, day, hour into a datetime string column\n",
    "dfAll = dfAll.withColumn(\"datetime_str\", concat_ws(\"-\", \"year\", \"month\", \"day\", \"hour\"))\n",
    "dfAll = dfAll.withColumn(\"timestamp\", to_timestamp(\"datetime_str\", \"yyyy-MM-dd-HH\"))\n",
    "dfAll = dfAll.drop(\"datetime_str\")"
   ]
  },
  {
   "cell_type": "markdown",
   "id": "ac488f37",
   "metadata": {},
   "source": [
    "The data contains null values, which may mean that the sensor fails to collect data or other reasons. In order to avoid the impact of null values on the analysis, the entire row of data corresponding to null values will be cleared."
   ]
  },
  {
   "cell_type": "code",
   "execution_count": 7,
   "id": "3802332b",
   "metadata": {
    "scrolled": true
   },
   "outputs": [
    {
     "name": "stdout",
     "output_type": "stream",
     "text": [
      "Data without null values has row: 373579\n",
      "+---+----+-----+---+----+----+----+---+---+---+---+----+------+-----+----+---+----+------------+-------------------+\n",
      "| No|year|month|day|hour|PM25|PM10|SO2|NO2| CO| O3|TEMP|  PRES| DEWP|RAIN| wd|WSPM|     station|          timestamp|\n",
      "+---+----+-----+---+----+----+----+---+---+---+---+----+------+-----+----+---+----+------------+-------------------+\n",
      "|  1|2013|    3|  1|   0|   4|   4|  4|  7|300| 77|-0.7|1023.0|-18.8| 0.0|NNW| 4.4|Aotizhongxin|2013-03-01 00:00:00|\n",
      "|  2|2013|    3|  1|   1|   8|   8|  4|  7|300| 77|-1.1|1023.2|-18.2| 0.0|  N| 4.7|Aotizhongxin|2013-03-01 01:00:00|\n",
      "|  3|2013|    3|  1|   2|   7|   7|  5| 10|300| 73|-1.1|1023.5|-18.2| 0.0|NNW| 5.6|Aotizhongxin|2013-03-01 02:00:00|\n",
      "|  4|2013|    3|  1|   3|   6|   6| 11| 11|300| 72|-1.4|1024.5|-19.4| 0.0| NW| 3.1|Aotizhongxin|2013-03-01 03:00:00|\n",
      "|  5|2013|    3|  1|   4|   3|   3| 12| 12|300| 72|-2.0|1025.2|-19.5| 0.0|  N| 2.0|Aotizhongxin|2013-03-01 04:00:00|\n",
      "|  6|2013|    3|  1|   5|   5|   5| 18| 18|400| 66|-2.2|1025.6|-19.6| 0.0|  N| 3.7|Aotizhongxin|2013-03-01 05:00:00|\n",
      "|  7|2013|    3|  1|   6|   3|   3| 18| 32|500| 50|-2.6|1026.5|-19.1| 0.0|NNE| 2.5|Aotizhongxin|2013-03-01 06:00:00|\n",
      "|  8|2013|    3|  1|   7|   3|   6| 19| 41|500| 43|-1.6|1027.4|-19.1| 0.0|NNW| 3.8|Aotizhongxin|2013-03-01 07:00:00|\n",
      "|  9|2013|    3|  1|   8|   3|   6| 16| 43|500| 45| 0.1|1028.3|-19.2| 0.0|NNW| 4.1|Aotizhongxin|2013-03-01 08:00:00|\n",
      "| 10|2013|    3|  1|   9|   3|   8| 12| 28|400| 59| 1.2|1028.5|-19.3| 0.0|  N| 2.6|Aotizhongxin|2013-03-01 09:00:00|\n",
      "| 11|2013|    3|  1|  10|   3|   6|  9| 12|400| 72| 1.9|1028.2|-19.4| 0.0|NNW| 3.6|Aotizhongxin|2013-03-01 10:00:00|\n",
      "| 12|2013|    3|  1|  11|   3|   6|  9| 14|400| 71| 2.9|1028.2|-20.5| 0.0|  N| 3.7|Aotizhongxin|2013-03-01 11:00:00|\n",
      "| 13|2013|    3|  1|  12|   3|   6|  7| 13|300| 74| 3.9|1027.3|-19.7| 0.0|NNW| 5.1|Aotizhongxin|2013-03-01 12:00:00|\n",
      "| 14|2013|    3|  1|  13|   3|   6|  7| 12|400| 76| 5.3|1026.2|-19.3| 0.0| NW| 4.3|Aotizhongxin|2013-03-01 13:00:00|\n",
      "| 15|2013|    3|  1|  14|   6|   9|  7| 11|400| 77| 6.0|1025.9|-19.6| 0.0| NW| 4.4|Aotizhongxin|2013-03-01 14:00:00|\n",
      "| 16|2013|    3|  1|  15|   8|  15|  7| 14|400| 76| 6.2|1025.7|-18.6| 0.0|NNE| 2.8|Aotizhongxin|2013-03-01 15:00:00|\n",
      "| 17|2013|    3|  1|  16|   9|  19|  9| 13|400| 76| 5.9|1025.6|-18.1| 0.0|NNW| 3.9|Aotizhongxin|2013-03-01 16:00:00|\n",
      "| 18|2013|    3|  1|  17|  10|  23| 11| 15|400| 74| 4.3|1026.3|-18.7| 0.0|NNE| 2.8|Aotizhongxin|2013-03-01 17:00:00|\n",
      "| 19|2013|    3|  1|  18|  11|  20|  8| 20|500| 70| 3.1|1027.4|-18.4| 0.0|NNE| 2.1|Aotizhongxin|2013-03-01 18:00:00|\n",
      "| 20|2013|    3|  1|  19|   8|  14| 12| 30|500| 60| 2.3|1028.3|-18.4| 0.0|  N| 2.8|Aotizhongxin|2013-03-01 19:00:00|\n",
      "+---+----+-----+---+----+----+----+---+---+---+---+----+------+-----+----+---+----+------------+-------------------+\n",
      "only showing top 20 rows\n",
      "\n"
     ]
    }
   ],
   "source": [
    "# Clear rows which has null values\n",
    "df = dfAll.na.drop()\n",
    "print(\"Data without null values has row:\",df.count())\n",
    "df.show()"
   ]
  },
  {
   "cell_type": "markdown",
   "id": "c477375c",
   "metadata": {},
   "source": [
    "Null values can also be understood as outliers. The following statistics are based on time and location for the empty data."
   ]
  },
  {
   "cell_type": "code",
   "execution_count": 8,
   "id": "736dc54a",
   "metadata": {},
   "outputs": [
    {
     "name": "stdout",
     "output_type": "stream",
     "text": [
      "The statistical time of the data starts from 2013-03-01 00:00:00 to 2017-02-28 23:00:00.\n",
      "Number of outlier data: 47189\n",
      "+----+-----+---+------------+-----+\n",
      "|year|month|day|     station|count|\n",
      "+----+-----+---+------------+-----+\n",
      "|2015|    4| 13|Aotizhongxin|    2|\n",
      "|2013|    7| 31|Aotizhongxin|    3|\n",
      "|2016|    9|  7|   Changping|   11|\n",
      "|2016|    8|  1|    Dingling|   12|\n",
      "|2013|   11|  1|    Dingling|   24|\n",
      "|2016|    7| 28|    Dingling|   13|\n",
      "|2013|    7|  3|      Dongsi|   24|\n",
      "|2013|    3|  8|      Dongsi|    1|\n",
      "|2013|   11| 13|      Dongsi|   24|\n",
      "|2015|   11| 21|     Gucheng|    1|\n",
      "|2016|    5| 27|     Gucheng|    2|\n",
      "|2014|   10|  4|     Gucheng|    1|\n",
      "|2013|    7| 21|     Huairou|    1|\n",
      "|2014|    3| 30|Nongzhanguan|    1|\n",
      "|2016|    9| 11|      Shunyi|   24|\n",
      "|2016|    9| 22|      Shunyi|   24|\n",
      "|2015|    9| 11|      Shunyi|    2|\n",
      "|2014|    5| 13|     Tiantan|   16|\n",
      "|2013|   11| 29|      Wanliu|   24|\n",
      "|2014|    1|  2|      Wanliu|   24|\n",
      "+----+-----+---+------------+-----+\n",
      "only showing top 20 rows\n",
      "\n"
     ]
    }
   ],
   "source": [
    "# Outlier Analysis\n",
    "time_column = \"timestamp\"\n",
    "min_time = dfAll.selectExpr(f\"min(`{time_column}`)\").collect()[0][0]\n",
    "max_time = dfAll.selectExpr(f\"max(`{time_column}`)\").collect()[0][0]\n",
    "print(\"The statistical time of the data starts from {} to {}.\".format(min_time, max_time))\n",
    "\n",
    "# Find the rows that has null value\n",
    "df_outlier = dfAll.exceptAll(df)\n",
    "print(\"Number of outlier data:\",df_outlier.count())\n",
    "\n",
    "df_outlier_group = df_outlier.groupBy(\"year\", \"month\",\"day\",\"station\").count()\n",
    "df_outlier_group.show()"
   ]
  },
  {
   "cell_type": "markdown",
   "id": "752b4552",
   "metadata": {},
   "source": [
    "Perform specific analysis on temperature data, such as the average temperature of each season, the average temperature of each month, and the trend of average temperature changes."
   ]
  },
  {
   "cell_type": "code",
   "execution_count": 9,
   "id": "a06bd78f",
   "metadata": {},
   "outputs": [
    {
     "name": "stdout",
     "output_type": "stream",
     "text": [
      "+------+----------------------------+\n",
      "|season|average_seasonal_temperature|\n",
      "+------+----------------------------+\n",
      "|     1|          2.6420255396806676|\n",
      "|     2|          20.460400593356873|\n",
      "|     3|          24.901560071199754|\n",
      "|     4|          5.9649532572357415|\n",
      "+------+----------------------------+\n",
      "\n"
     ]
    },
    {
     "data": {
      "image/png": "[encoded data removed]",
      "text/plain": [
       "<Figure size 720x432 with 1 Axes>"
      ]
     },
     "metadata": {
      "needs_background": "light"
     },
     "output_type": "display_data"
    },
    {
     "data": {
      "image/png": "[encoded data removed]",
      "text/plain": [
       "<Figure size 720x432 with 1 Axes>"
      ]
     },
     "metadata": {
      "needs_background": "light"
     },
     "output_type": "display_data"
    }
   ],
   "source": [
    "# Analyze average temperatures\n",
    "df = df.withColumn(\"season\", quarter(\"timestamp\"))\n",
    "\n",
    "avg_temp = df.groupBy(\"year\",\"season\").agg(avg(\"TEMP\").alias(\"average_temperature\"))\n",
    "seasonal_avg_temp = df.groupBy(\"season\").agg(avg(\"TEMP\").alias(\"average_seasonal_temperature\"))\n",
    "monthly_avg_temp = df.groupBy(\"month\").agg(avg(\"TEMP\").alias(\"average_mounthly_temperature\"))\n",
    "\n",
    "seasonal_avg_temp = seasonal_avg_temp.orderBy(\"season\")\n",
    "seasonal_avg_temp.show()\n",
    "avg_temp = avg_temp.orderBy(\"year\")\n",
    "\n",
    "# Monthly average temperature\n",
    "months = monthly_avg_temp.select(\"month\").rdd.flatMap(lambda x: x).collect()\n",
    "temperatures = monthly_avg_temp.select(\"average_mounthly_temperature\").rdd.flatMap(lambda x: x).collect()\n",
    "\n",
    "plt.figure(figsize=(10, 6))\n",
    "plt.bar(months, temperatures, color='skyblue')\n",
    "plt.xlabel(\"Month\")\n",
    "plt.ylabel(\"Average Temperature\")\n",
    "plt.title(\"Monthly average temperature\")\n",
    "plt.grid(True)\n",
    "plt.show()\n",
    "\n",
    "\n",
    "# Average Temperature by Year and Quarter\n",
    "pandas_df = avg_temp.toPandas()\n",
    "grouped_data = pandas_df.groupby(['year', 'season'])['average_temperature'].mean().unstack()\n",
    "grouped_data.plot(kind='line', figsize=(10, 6), style='o-', markersize=8)\n",
    "\n",
    "plt.xlabel(\"Year\")\n",
    "plt.ylabel(\"Average Temperature\")\n",
    "plt.title(\"Average Temperature by Year and Quarter\")\n",
    "plt.legend(title='Season', labels=['Season 1', 'Season 2', 'Season 3', 'Season 4'])\n",
    "plt.grid(True)\n",
    "plt.show()"
   ]
  },
  {
   "cell_type": "markdown",
   "id": "078b1fcc",
   "metadata": {},
   "source": [
    "From the above results, it can be seen that there are obvious seasonal changes and annual temperature changes. The most obvious is that the temperature in the first quarter is getting lower and lower."
   ]
  },
  {
   "cell_type": "markdown",
   "id": "e5da1760",
   "metadata": {},
   "source": [
    "## PM2.5 Cluster\n",
    "PM2.5 refers to particles with a diameter less than or equal to 2.5 microns. They are so small that they can be suspended in the air and can be inhaled into the lungs by the human body. Due to its special nature, PM2.5 is affected by many factors, including meteorological conditions, human activities and natural factors.\n",
    "Therefore, clustering algorithms are used to analyze its relationship with seasonal changes."
   ]
  },
  {
   "cell_type": "code",
   "execution_count": 10,
   "id": "3369efbb",
   "metadata": {},
   "outputs": [
    {
     "name": "stdout",
     "output_type": "stream",
     "text": [
      "+------+-----------------+\n",
      "|season|     average_pm25|\n",
      "+------+-----------------+\n",
      "|     1|91.20726815233421|\n",
      "|     2|68.12609705180641|\n",
      "|     3|61.43240575649516|\n",
      "|     4|98.32022916290002|\n",
      "+------+-----------------+\n",
      "\n"
     ]
    }
   ],
   "source": [
    "# Seasonal averages of PM2.5.\n",
    "avg_pm25 = df.groupBy(\"season\").agg(avg(\"PM25\").alias(\"average_pm25\"))\n",
    "avg_pm25 = avg_pm25.orderBy(\"season\")\n",
    "avg_pm25.show()"
   ]
  },
  {
   "cell_type": "code",
   "execution_count": 11,
   "id": "15f72af8",
   "metadata": {},
   "outputs": [
    {
     "name": "stdout",
     "output_type": "stream",
     "text": [
      "The 4 characteristic values of PM2.5 are: [array([97.69230701]), array([26.43808674]), array([196.60968143]), array([355.08300528])]\n",
      "Silhouette Score of KMeans: 0.7617583141535191\n"
     ]
    }
   ],
   "source": [
    "# Cluster analysis of PM2.5 values using kmeans algorithm\n",
    "assembler = VectorAssembler(inputCols=[\"PM25\"], outputCol=\"features\")\n",
    "PM25_features = assembler.transform(df)\n",
    "\n",
    "k = 4\n",
    "kmeans = KMeans().setK(k).setSeed(42)\n",
    "modelkm = kmeans.fit(PM25_features)\n",
    "\n",
    "cluster_centers = modelkm.clusterCenters()\n",
    "print(\"The 4 characteristic values of PM2.5 are:\",cluster_centers)\n",
    "\n",
    "evaluator = ClusteringEvaluator()\n",
    "silhouette_scorekm = evaluator.evaluate(modelkm.transform(PM25_features))\n",
    "print(f\"Silhouette Score of KMeans: {silhouette_scorekm}\")"
   ]
  },
  {
   "cell_type": "code",
   "execution_count": 12,
   "id": "e7a8aa2c",
   "metadata": {},
   "outputs": [
    {
     "name": "stdout",
     "output_type": "stream",
     "text": [
      "Silhouette Score: 0.8138285072856454\n",
      "The 2 characteristic values of PM2.5 are: [array([47.02957721]), array([208.58088343])]\n"
     ]
    }
   ],
   "source": [
    "# BisectingKMeans clustering algorithm\n",
    "bkm = BisectingKMeans(k=2, minDivisibleClusterSize=1.0, seed=11)\n",
    "bkm.setMaxIter(20)\n",
    "\n",
    "modelbkm = bkm.fit(PM25_features)\n",
    "evaluatorbkm = ClusteringEvaluator()\n",
    "silhouette_scorebkm = evaluatorbkm.evaluate(modelbkm.transform(PM25_features))\n",
    "print(f\"Silhouette Score: {silhouette_scorebkm}\")\n",
    "cluster_centersbkm = modelbkm.clusterCenters()\n",
    "print(\"The 2 characteristic values of PM2.5 are:\",cluster_centersbkm)"
   ]
  },
  {
   "cell_type": "markdown",
   "id": "d7c8a6ca",
   "metadata": {},
   "source": [
    "The Silhouette Score is a measure of how well-defined the clusters are in a clustering algorithm like KMeans. It ranges from -1 to 1, where a higher value indicates that the clusters are well-separated and distinct.\n",
    "\n",
    "The above results with Silhouette Score as 0.7617583141535191 for the KMeans clustering and 0.7456583043645952 for the BisectingKMeans clustering suggests that the clusters are relatively well-separated and distinct. This value indicates that the KMeans algorithm has done a good job in finding meaningful and compact clusters for the given data."
   ]
  },
  {
   "cell_type": "markdown",
   "id": "2c8aaef2",
   "metadata": {},
   "source": [
    "## Station Classification"
   ]
  },
  {
   "cell_type": "code",
   "execution_count": 13,
   "id": "15970f24",
   "metadata": {},
   "outputs": [
    {
     "name": "stdout",
     "output_type": "stream",
     "text": [
      "+---+----------+------------+---------------+\n",
      "| wd|encoded_wd|     station|encoded_station|\n",
      "+---+----------+------------+---------------+\n",
      "|NNW|       7.0|Aotizhongxin|            6.0|\n",
      "|  N|       3.0|Aotizhongxin|            6.0|\n",
      "|NNW|       7.0|Aotizhongxin|            6.0|\n",
      "| NW|       2.0|Aotizhongxin|            6.0|\n",
      "|  N|       3.0|Aotizhongxin|            6.0|\n",
      "|  N|       3.0|Aotizhongxin|            6.0|\n",
      "|NNE|       6.0|Aotizhongxin|            6.0|\n",
      "|NNW|       7.0|Aotizhongxin|            6.0|\n",
      "|NNW|       7.0|Aotizhongxin|            6.0|\n",
      "|  N|       3.0|Aotizhongxin|            6.0|\n",
      "|NNW|       7.0|Aotizhongxin|            6.0|\n",
      "|  N|       3.0|Aotizhongxin|            6.0|\n",
      "|NNW|       7.0|Aotizhongxin|            6.0|\n",
      "| NW|       2.0|Aotizhongxin|            6.0|\n",
      "| NW|       2.0|Aotizhongxin|            6.0|\n",
      "|NNE|       6.0|Aotizhongxin|            6.0|\n",
      "|NNW|       7.0|Aotizhongxin|            6.0|\n",
      "|NNE|       6.0|Aotizhongxin|            6.0|\n",
      "|NNE|       6.0|Aotizhongxin|            6.0|\n",
      "|  N|       3.0|Aotizhongxin|            6.0|\n",
      "+---+----------+------------+---------------+\n",
      "only showing top 20 rows\n",
      "\n"
     ]
    }
   ],
   "source": [
    "indexerwd = StringIndexer(inputCol=\"wd\", outputCol=\"encoded_wd\")\n",
    "indexed_wd = indexerwd.fit(df)\n",
    "df_encoded = indexed_wd.transform(df)\n",
    "indexerst = StringIndexer(inputCol=\"station\", outputCol=\"encoded_station\")\n",
    "indexed_st = indexerst.fit(df_encoded)\n",
    "df_encoded = indexed_st.transform(df_encoded)\n",
    "df_encoded.select([\"wd\", \"encoded_wd\",\"station\",\"encoded_station\"]).show()"
   ]
  },
  {
   "cell_type": "code",
   "execution_count": 15,
   "id": "0ca150bc",
   "metadata": {},
   "outputs": [
    {
     "name": "stdout",
     "output_type": "stream",
     "text": [
      "+--------------------+-----+\n",
      "|            features|label|\n",
      "+--------------------+-----+\n",
      "|[4.0,4.0,4.0,7.0,...|  6.0|\n",
      "|[8.0,8.0,4.0,7.0,...|  6.0|\n",
      "|[7.0,7.0,5.0,10.0...|  6.0|\n",
      "|[6.0,6.0,11.0,11....|  6.0|\n",
      "|[3.0,3.0,12.0,12....|  6.0|\n",
      "|[5.0,5.0,18.0,18....|  6.0|\n",
      "|[3.0,3.0,18.0,32....|  6.0|\n",
      "|[3.0,6.0,19.0,41....|  6.0|\n",
      "|[3.0,6.0,16.0,43....|  6.0|\n",
      "|[3.0,8.0,12.0,28....|  6.0|\n",
      "|[3.0,6.0,9.0,12.0...|  6.0|\n",
      "|[3.0,6.0,9.0,14.0...|  6.0|\n",
      "|[3.0,6.0,7.0,13.0...|  6.0|\n",
      "|[3.0,6.0,7.0,12.0...|  6.0|\n",
      "|[6.0,9.0,7.0,11.0...|  6.0|\n",
      "|[8.0,15.0,7.0,14....|  6.0|\n",
      "|[9.0,19.0,9.0,13....|  6.0|\n",
      "|[10.0,23.0,11.0,1...|  6.0|\n",
      "|[11.0,20.0,8.0,20...|  6.0|\n",
      "|[8.0,14.0,12.0,30...|  6.0|\n",
      "+--------------------+-----+\n",
      "only showing top 20 rows\n",
      "\n"
     ]
    }
   ],
   "source": [
    "assembler_station = VectorAssembler(inputCols=[\"PM25\", \"PM10\",\"SO2\",\"NO2\",\"CO\",\"O3\",\"TEMP\",\"PRES\",\"DEWP\",\"RAIN\",\"encoded_wd\",\"WSPM\"], outputCol=\"features\")\n",
    "df_encoded_feature = assembler_station.transform(df_encoded)\n",
    "\n",
    "station_col = [\"features\",\"encoded_station\"]\n",
    "station_features = df_encoded_feature.select(*station_col)\n",
    "station_features = station_features.withColumnRenamed('encoded_station', 'label')\n",
    "station_features.show()"
   ]
  },
  {
   "cell_type": "code",
   "execution_count": 16,
   "id": "581f3db5",
   "metadata": {},
   "outputs": [
    {
     "name": "stdout",
     "output_type": "stream",
     "text": [
      "+--------------------+-----+\n",
      "|        normFeatures|label|\n",
      "+--------------------+-----+\n",
      "|[0.04980570681925...|  6.0|\n",
      "|[0.09961141363851...|  6.0|\n",
      "|[0.08715998693369...|  6.0|\n",
      "+--------------------+-----+\n",
      "only showing top 3 rows\n",
      "\n"
     ]
    }
   ],
   "source": [
    "normaliser = StandardScaler(inputCol=\"features\", outputCol=\"normFeatures\")\n",
    "normModel = normaliser.fit(station_features)\n",
    "station_norm = normModel.transform(station_features)\n",
    "station_features_norm = station_norm.select([\"normFeatures\", \"label\"])\n",
    "station_features_norm.show(3)"
   ]
  },
  {
   "cell_type": "code",
   "execution_count": 17,
   "id": "f9266179",
   "metadata": {},
   "outputs": [],
   "source": [
    "train, test = station_features_norm.randomSplit([0.67, 0.33],seed=15)"
   ]
  },
  {
   "cell_type": "code",
   "execution_count": 18,
   "id": "32edba2f",
   "metadata": {
    "scrolled": false
   },
   "outputs": [
    {
     "name": "stdout",
     "output_type": "stream",
     "text": [
      "+----------+-----+\n",
      "|prediction|label|\n",
      "+----------+-----+\n",
      "|       3.0|  6.0|\n",
      "|       3.0|  6.0|\n",
      "|       4.0|  6.0|\n",
      "+----------+-----+\n",
      "only showing top 3 rows\n",
      "\n",
      "The accuracy of DecisionTreeClassifier is: 0.23473401623721582\n"
     ]
    }
   ],
   "source": [
    "dt = DecisionTreeClassifier(maxDepth=12, featuresCol=\"normFeatures\",labelCol=\"label\", leafCol=\"leafId\")\n",
    "modeldt = dt.fit(train)\n",
    "dt_test = modeldt.transform(test)\n",
    "dt_test.select('prediction', 'label').show(3)\n",
    "\n",
    "evaluator_dt = MulticlassClassificationEvaluator()\n",
    "accuracy_dt = evaluator_dt.evaluate(dt_test, {evaluator_dt.metricName: \"accuracy\"})\n",
    "print(\"The accuracy of DecisionTreeClassifier is:\",accuracy_dt)"
   ]
  },
  {
   "cell_type": "code",
   "execution_count": 19,
   "id": "234effec",
   "metadata": {},
   "outputs": [
    {
     "name": "stdout",
     "output_type": "stream",
     "text": [
      "The accuracy of RandomForestClassifier is: 0.26264223784844726\n"
     ]
    }
   ],
   "source": [
    "rf = RandomForestClassifier(numTrees=6, maxDepth=12, featuresCol=\"normFeatures\",labelCol=\"label\", seed=42,leafCol=\"leafId\")\n",
    "modelrf = rf.fit(train)\n",
    "rf_test = modelrf.transform(test)\n",
    "\n",
    "evaluator_rf = MulticlassClassificationEvaluator()\n",
    "accuracy_rf = evaluator_rf.evaluate(rf_test, {evaluator_rf.metricName: \"accuracy\"})\n",
    "print(\"The accuracy of RandomForestClassifier is:\",accuracy_rf)"
   ]
  },
  {
   "cell_type": "markdown",
   "id": "2af5a22f",
   "metadata": {},
   "source": [
    "Because the data were collected from 12 different base stations, it was planned to predict the collection points through multi-classifiers, but the accuracy results of the above two classifiers showed that this scheme was not applicable.\n",
    "\n",
    "The reason may be that the air data differences are not obvious because the collection points are all located in one city and the geographical location is relatively close."
   ]
  },
  {
   "cell_type": "markdown",
   "id": "bc89b211",
   "metadata": {},
   "source": [
    "## AQI"
   ]
  },
  {
   "cell_type": "code",
   "execution_count": 20,
   "id": "168eb2be",
   "metadata": {},
   "outputs": [
    {
     "name": "stdout",
     "output_type": "stream",
     "text": [
      "+-------------------+----+----+---+---+---+---+------------+\n",
      "|          timestamp|PM25|PM10|SO2|NO2| CO| O3|     station|\n",
      "+-------------------+----+----+---+---+---+---+------------+\n",
      "|2013-03-01 00:00:00|   4|   4|  4|  7|300| 77|Aotizhongxin|\n",
      "|2013-03-01 01:00:00|   8|   8|  4|  7|300| 77|Aotizhongxin|\n",
      "|2013-03-01 02:00:00|   7|   7|  5| 10|300| 73|Aotizhongxin|\n",
      "|2013-03-01 03:00:00|   6|   6| 11| 11|300| 72|Aotizhongxin|\n",
      "|2013-03-01 04:00:00|   3|   3| 12| 12|300| 72|Aotizhongxin|\n",
      "|2013-03-01 05:00:00|   5|   5| 18| 18|400| 66|Aotizhongxin|\n",
      "|2013-03-01 06:00:00|   3|   3| 18| 32|500| 50|Aotizhongxin|\n",
      "|2013-03-01 07:00:00|   3|   6| 19| 41|500| 43|Aotizhongxin|\n",
      "|2013-03-01 08:00:00|   3|   6| 16| 43|500| 45|Aotizhongxin|\n",
      "|2013-03-01 09:00:00|   3|   8| 12| 28|400| 59|Aotizhongxin|\n",
      "|2013-03-01 10:00:00|   3|   6|  9| 12|400| 72|Aotizhongxin|\n",
      "|2013-03-01 11:00:00|   3|   6|  9| 14|400| 71|Aotizhongxin|\n",
      "|2013-03-01 12:00:00|   3|   6|  7| 13|300| 74|Aotizhongxin|\n",
      "|2013-03-01 13:00:00|   3|   6|  7| 12|400| 76|Aotizhongxin|\n",
      "|2013-03-01 14:00:00|   6|   9|  7| 11|400| 77|Aotizhongxin|\n",
      "|2013-03-01 15:00:00|   8|  15|  7| 14|400| 76|Aotizhongxin|\n",
      "|2013-03-01 16:00:00|   9|  19|  9| 13|400| 76|Aotizhongxin|\n",
      "|2013-03-01 17:00:00|  10|  23| 11| 15|400| 74|Aotizhongxin|\n",
      "|2013-03-01 18:00:00|  11|  20|  8| 20|500| 70|Aotizhongxin|\n",
      "|2013-03-01 19:00:00|   8|  14| 12| 30|500| 60|Aotizhongxin|\n",
      "+-------------------+----+----+---+---+---+---+------------+\n",
      "only showing top 20 rows\n",
      "\n"
     ]
    }
   ],
   "source": [
    "df_AQI = df.select(\"timestamp\", \"PM25\",\"PM10\",\"SO2\",\"NO2\",\"CO\",\"O3\",\"station\")\n",
    "df_AQI.show()"
   ]
  },
  {
   "cell_type": "code",
   "execution_count": 21,
   "id": "5a09e003",
   "metadata": {},
   "outputs": [],
   "source": [
    "def calculate_aqi_pm25(concentration):\n",
    "    # AQI calculation for PM2.5 (Chinese standard)\n",
    "    breakpoints = [0, 35, 75, 115, 150, 250, 350, 500]\n",
    "    aqi_values = [0, 50, 100, 150, 200, 300, 400, 500]\n",
    "    return calculate_aqi_generic(concentration, breakpoints, aqi_values)\n",
    "\n",
    "def calculate_aqi_pm10(concentration):\n",
    "    # AQI calculation for PM10 (Chinese standard)\n",
    "    breakpoints = [0, 50, 150, 250, 350, 420, 500, 600]\n",
    "    aqi_values = [0, 50, 100, 150, 200, 300, 400, 500]\n",
    "    return calculate_aqi_generic(concentration, breakpoints, aqi_values)\n",
    "\n",
    "def calculate_aqi_so2(concentration):\n",
    "    # AQI calculation for SO2 (Chinese standard)\n",
    "    breakpoints = [0, 150, 500, 650, 800, 1600, 2100, 2620]\n",
    "    aqi_values = [0, 50, 100, 150, 200, 300, 400, 500]\n",
    "    return calculate_aqi_generic(concentration, breakpoints, aqi_values)\n",
    "\n",
    "def calculate_aqi_no2(concentration):\n",
    "    # AQI calculation for NO2 (Chinese standard)\n",
    "    breakpoints = [0, 100, 200, 700, 1200, 2340, 3090, 3840]\n",
    "    aqi_values = [0, 50, 100, 150, 200, 300, 400, 500]\n",
    "    return calculate_aqi_generic(concentration, breakpoints, aqi_values)\n",
    "\n",
    "def calculate_aqi_co(concentration):\n",
    "    # AQI calculation for CO (Chinese standard)\n",
    "    breakpoints = [0, 5000, 10000, 35000, 60000, 90000, 120000, 150000]\n",
    "    aqi_values = [0, 50, 100, 150, 200, 300, 400, 500]\n",
    "    return calculate_aqi_generic(concentration, breakpoints, aqi_values)\n",
    "\n",
    "def calculate_aqi_o3(concentration):\n",
    "    # AQI calculation for O3 (Chinese standard)\n",
    "    breakpoints = [0, 160, 200, 300, 400, 800,1000, 1200]\n",
    "    aqi_values = [0, 50, 100, 150, 200, 300, 400, 500]\n",
    "    return calculate_aqi_generic(concentration, breakpoints, aqi_values)\n",
    "\n",
    "def calculate_aqi_generic(concentration, breakpoints, aqi_values):\n",
    "    concentration = int(concentration)\n",
    "    # Calculate AQI based on breakpoints and concentrations\n",
    "    for i in range(1, len(breakpoints)):\n",
    "        if concentration <= breakpoints[i]:\n",
    "            aqi_low = aqi_values[i - 1]\n",
    "            aqi_high = aqi_values[i]\n",
    "            breakpoint_low = breakpoints[i - 1]\n",
    "            breakpoint_high = breakpoints[i]\n",
    "            aqi = ((aqi_high - aqi_low) / (breakpoint_high - breakpoint_low)) * (concentration - breakpoint_low) + aqi_low\n",
    "            return round(aqi)"
   ]
  },
  {
   "cell_type": "code",
   "execution_count": 22,
   "id": "60efad78",
   "metadata": {},
   "outputs": [
    {
     "name": "stdout",
     "output_type": "stream",
     "text": [
      "+-------------------+----+----+---+---+---+---+------------+-------+-------+------+------+-----+-----+---+--------------+\n",
      "|          timestamp|PM25|PM10|SO2|NO2| CO| O3|     station|PM25_Re|PM10_Re|SO2_Re|NO2_Re|CO_Re|O3_Re|AQI|Main_pollution|\n",
      "+-------------------+----+----+---+---+---+---+------------+-------+-------+------+------+-----+-----+---+--------------+\n",
      "|2013-03-01 00:00:00|   4|   4|  4|  7|300| 77|Aotizhongxin|      6|      4|     1|     4|    3|   24| 24|         O3_Re|\n",
      "|2013-03-01 01:00:00|   8|   8|  4|  7|300| 77|Aotizhongxin|     11|      8|     1|     4|    3|   24| 24|         O3_Re|\n",
      "|2013-03-01 02:00:00|   7|   7|  5| 10|300| 73|Aotizhongxin|     10|      7|     2|     5|    3|   23| 23|         O3_Re|\n",
      "|2013-03-01 03:00:00|   6|   6| 11| 11|300| 72|Aotizhongxin|      9|      6|     4|     6|    3|   22| 22|         O3_Re|\n",
      "|2013-03-01 04:00:00|   3|   3| 12| 12|300| 72|Aotizhongxin|      4|      3|     4|     6|    3|   22| 22|         O3_Re|\n",
      "|2013-03-01 05:00:00|   5|   5| 18| 18|400| 66|Aotizhongxin|      7|      5|     6|     9|    4|   21| 21|         O3_Re|\n",
      "|2013-03-01 06:00:00|   3|   3| 18| 32|500| 50|Aotizhongxin|      4|      3|     6|    16|    5|   16| 16|        NO2_Re|\n",
      "|2013-03-01 07:00:00|   3|   6| 19| 41|500| 43|Aotizhongxin|      4|      6|     6|    20|    5|   13| 20|        NO2_Re|\n",
      "|2013-03-01 08:00:00|   3|   6| 16| 43|500| 45|Aotizhongxin|      4|      6|     5|    22|    5|   14| 22|        NO2_Re|\n",
      "|2013-03-01 09:00:00|   3|   8| 12| 28|400| 59|Aotizhongxin|      4|      8|     4|    14|    4|   18| 18|         O3_Re|\n",
      "|2013-03-01 10:00:00|   3|   6|  9| 12|400| 72|Aotizhongxin|      4|      6|     3|     6|    4|   22| 22|         O3_Re|\n",
      "|2013-03-01 11:00:00|   3|   6|  9| 14|400| 71|Aotizhongxin|      4|      6|     3|     7|    4|   22| 22|         O3_Re|\n",
      "|2013-03-01 12:00:00|   3|   6|  7| 13|300| 74|Aotizhongxin|      4|      6|     2|     6|    3|   23| 23|         O3_Re|\n",
      "|2013-03-01 13:00:00|   3|   6|  7| 12|400| 76|Aotizhongxin|      4|      6|     2|     6|    4|   24| 24|         O3_Re|\n",
      "|2013-03-01 14:00:00|   6|   9|  7| 11|400| 77|Aotizhongxin|      9|      9|     2|     6|    4|   24| 24|         O3_Re|\n",
      "|2013-03-01 15:00:00|   8|  15|  7| 14|400| 76|Aotizhongxin|     11|     15|     2|     7|    4|   24| 24|         O3_Re|\n",
      "|2013-03-01 16:00:00|   9|  19|  9| 13|400| 76|Aotizhongxin|     13|     19|     3|     6|    4|   24| 24|         O3_Re|\n",
      "|2013-03-01 17:00:00|  10|  23| 11| 15|400| 74|Aotizhongxin|     14|     23|     4|     8|    4|   23| 23|       PM10_Re|\n",
      "|2013-03-01 18:00:00|  11|  20|  8| 20|500| 70|Aotizhongxin|     16|     20|     3|    10|    5|   22| 22|         O3_Re|\n",
      "|2013-03-01 19:00:00|   8|  14| 12| 30|500| 60|Aotizhongxin|     11|     14|     4|    15|    5|   19| 19|         O3_Re|\n",
      "+-------------------+----+----+---+---+---+---+------------+-------+-------+------+------+-----+-----+---+--------------+\n",
      "only showing top 20 rows\n",
      "\n"
     ]
    }
   ],
   "source": [
    "df_AQI = df_AQI.withColumn(\"PM25_Re\", udf(lambda x: calculate_aqi_pm25(x), IntegerType())(\"PM25\"))\n",
    "df_AQI = df_AQI.withColumn(\"PM10_Re\", udf(lambda x: calculate_aqi_pm10(x), IntegerType())(\"PM10\"))\n",
    "df_AQI = df_AQI.withColumn(\"SO2_Re\", udf(lambda x: calculate_aqi_so2(x), IntegerType())(\"SO2\"))\n",
    "df_AQI = df_AQI.withColumn(\"NO2_Re\", udf(lambda x: calculate_aqi_no2(x), IntegerType())(\"NO2\"))\n",
    "df_AQI = df_AQI.withColumn(\"CO_Re\", udf(lambda x: calculate_aqi_co(x), IntegerType())(\"CO\"))\n",
    "df_AQI = df_AQI.withColumn(\"O3_Re\", udf(lambda x: calculate_aqi_o3(x), IntegerType())(\"O3\"))\n",
    "\n",
    "pollution_columns = [\"PM25_Re\", \"PM10_Re\",\"SO2_Re\",\"NO2_Re\",\"CO_Re\",\"O3_Re\"]\n",
    "\n",
    "expr_string = \"CASE \" + \" \".join([f\"WHEN greatest({', '.join(pollution_columns)}) = {pollution_name} THEN '{pollution_name}'\" for pollution_name in pollution_columns]) + \" END\"\n",
    "df_AQI = df_AQI.withColumn(\"AQI\", greatest(*pollution_columns)).withColumn(\"Main_pollution\", expr(expr_string))\n",
    "df_AQI.show()"
   ]
  },
  {
   "cell_type": "code",
   "execution_count": 23,
   "id": "0672aac6",
   "metadata": {},
   "outputs": [
    {
     "name": "stdout",
     "output_type": "stream",
     "text": [
      "+--------------------+---+\n",
      "|            features|AQI|\n",
      "+--------------------+---+\n",
      "|[4.0,4.0,4.0,7.0,...| 24|\n",
      "|[8.0,8.0,4.0,7.0,...| 24|\n",
      "|[7.0,7.0,5.0,10.0...| 23|\n",
      "|[6.0,6.0,11.0,11....| 22|\n",
      "|[3.0,3.0,12.0,12....| 22|\n",
      "|[5.0,5.0,18.0,18....| 21|\n",
      "|[3.0,3.0,18.0,32....| 16|\n",
      "|[3.0,6.0,19.0,41....| 20|\n",
      "|[3.0,6.0,16.0,43....| 22|\n",
      "|[3.0,8.0,12.0,28....| 18|\n",
      "+--------------------+---+\n",
      "only showing top 10 rows\n",
      "\n"
     ]
    }
   ],
   "source": [
    "pollution_cols = [\"PM25\", \"PM10\",\"SO2\",\"NO2\",\"CO\",\"O3\"]\n",
    "assembler_aqi = VectorAssembler(inputCols=pollution_cols, outputCol='features')\n",
    "AQI_features = assembler_aqi.transform(df_AQI).select('features', 'AQI')\n",
    "train_aqi, test_aqi = AQI_features.randomSplit([0.67, 0.33], seed=42)\n",
    "\n",
    "AQI_features.show(10)"
   ]
  },
  {
   "cell_type": "code",
   "execution_count": 24,
   "id": "f4bd684f",
   "metadata": {},
   "outputs": [
    {
     "name": "stdout",
     "output_type": "stream",
     "text": [
      "Coefficients:  [0.7831184179159819,0.25053183924572736,-0.00018807670760923655,0.06604377397708366,5.728263640567299e-06,0.07128497007682419]\n",
      "Intercept:  13.868935135578965\n",
      "MSE:  590.8660648502563\n",
      "MAE:  10.831817862149594\n",
      "R-squared:  0.924338270963128\n"
     ]
    }
   ],
   "source": [
    "lr = LinearRegression(featuresCol='features', labelCol='AQI', maxIter=15)\n",
    "lr_model = lr.fit(AQI_features)\n",
    "\n",
    "print(\"Coefficients: \", lr_model.coefficients)\n",
    "print(\"Intercept: \", lr_model.intercept)\n",
    "print(\"MSE: \", lr_model.summary.meanSquaredError)\n",
    "print(\"MAE: \", lr_model.summary.meanAbsoluteError)\n",
    "print(\"R-squared: \", lr_model.summary.r2) "
   ]
  },
  {
   "cell_type": "code",
   "execution_count": null,
   "id": "d6d64415",
   "metadata": {},
   "outputs": [],
   "source": []
  },
  {
   "cell_type": "code",
   "execution_count": 25,
   "id": "7371d820",
   "metadata": {},
   "outputs": [
    {
     "name": "stdout",
     "output_type": "stream",
     "text": [
      "+------------------+---+\n",
      "|        prediction|AQI|\n",
      "+------------------+---+\n",
      "|29.568975552968567| 27|\n",
      "|21.465510471204187| 14|\n",
      "|29.568975552968567| 27|\n",
      "+------------------+---+\n",
      "only showing top 3 rows\n",
      "\n"
     ]
    }
   ],
   "source": [
    "DecisionTree = DecisionTreeRegressor(featuresCol = 'features', labelCol = 'AQI', maxDepth=7)\n",
    "modeldtr= DecisionTree.fit(train_aqi)\n",
    "dtr_test = modeldtr.transform(test_aqi)\n",
    "dtr_test.select('prediction', 'AQI').show(3)"
   ]
  },
  {
   "cell_type": "code",
   "execution_count": 26,
   "id": "c040918b",
   "metadata": {},
   "outputs": [
    {
     "data": {
      "image/png": "[encoded data removed]",
      "text/plain": [
       "<Figure size 432x288 with 1 Axes>"
      ]
     },
     "metadata": {
      "needs_background": "light"
     },
     "output_type": "display_data"
    }
   ],
   "source": [
    "x_ax1 = range(0, dtr_test.count())\n",
    "y_pred1 = dtr_test.select(\"prediction\").collect()\n",
    "y_orig1 = dtr_test.select(\"AQI\").collect() \n",
    "\n",
    "\n",
    "plt.plot(x_ax1, y_orig1, label=\"calculated\")\n",
    "plt.plot(x_ax1, y_pred1, label=\"predicted\")\n",
    "plt.title(\"AQI calculated and predicted data\")\n",
    "plt.xlabel('X-axis')\n",
    "plt.ylabel('Y-axis')\n",
    "plt.legend(loc='best',fancybox=True, shadow=True)\n",
    "plt.grid(True)\n",
    "plt.show()"
   ]
  },
  {
   "cell_type": "code",
   "execution_count": 27,
   "id": "14963a37",
   "metadata": {},
   "outputs": [
    {
     "name": "stdout",
     "output_type": "stream",
     "text": [
      "RMSE (testing) of DecisionTree:  14.217594641683876\n",
      "R Squared (testing) of DecisionTree: 0.9740961801077372\n",
      "MSE (testing) of DecisionTree:  202.13999739523805\n",
      "MAE (testing) of DecisionTree:  5.8173738714681384\n"
     ]
    }
   ],
   "source": [
    "dtr_eval = RegressionEvaluator(labelCol=\"AQI\", predictionCol=\"prediction\", metricName=\"rmse\")\n",
    "RMSE = dtr_eval.evaluate(dtr_test)\n",
    "\n",
    "dtr_eval = RegressionEvaluator(labelCol=\"AQI\", predictionCol=\"prediction\", metricName=\"r2\")\n",
    "R2 = dtr_eval.evaluate(dtr_test)\n",
    "\n",
    "dtr_eval = RegressionEvaluator(labelCol=\"AQI\", predictionCol=\"prediction\", metricName=\"mse\")\n",
    "MSE = dtr_eval.evaluate(dtr_test)\n",
    "\n",
    "dtr_eval = RegressionEvaluator(labelCol=\"AQI\", predictionCol=\"prediction\", metricName=\"mae\")\n",
    "MAE = dtr_eval.evaluate(dtr_test)\n",
    "\n",
    "print(\"RMSE (testing) of DecisionTree: \", RMSE)\n",
    "print(\"R Squared (testing) of DecisionTree:\", R2)\n",
    "print(\"MSE (testing) of DecisionTree: \", MSE)\n",
    "print(\"MAE (testing) of DecisionTree: \", MAE)"
   ]
  },
  {
   "cell_type": "code",
   "execution_count": null,
   "id": "9abe5805",
   "metadata": {},
   "outputs": [],
   "source": []
  },
  {
   "cell_type": "code",
   "execution_count": 28,
   "id": "27450046",
   "metadata": {},
   "outputs": [
    {
     "name": "stdout",
     "output_type": "stream",
     "text": [
      "+------------------+---+\n",
      "|        prediction|AQI|\n",
      "+------------------+---+\n",
      "| 26.54301830771372| 27|\n",
      "|14.966838592103537| 14|\n",
      "|26.617474391517103| 27|\n",
      "+------------------+---+\n",
      "only showing top 3 rows\n",
      "\n"
     ]
    }
   ],
   "source": [
    "rfr = RandomForestRegressor(featuresCol = 'features', labelCol = 'AQI',numTrees=6, maxDepth=15)\n",
    "rfr.setSeed(42)\n",
    "\n",
    "modelrfr = rfr.fit(train_aqi)\n",
    "rfr_test = modelrfr.transform(test_aqi)\n",
    "rfr_test.select('prediction', 'AQI').show(3)"
   ]
  },
  {
   "cell_type": "code",
   "execution_count": 29,
   "id": "269780c3",
   "metadata": {},
   "outputs": [
    {
     "data": {
      "image/png": "[encoded data removed]",
      "text/plain": [
       "<Figure size 432x288 with 1 Axes>"
      ]
     },
     "metadata": {
      "needs_background": "light"
     },
     "output_type": "display_data"
    }
   ],
   "source": [
    "x_ax2 = range(0, rfr_test.count())\n",
    "y_pred2 = rfr_test.select(\"prediction\").collect()\n",
    "y_orig2 = rfr_test.select(\"AQI\").collect() \n",
    "\n",
    "plt.plot(x_ax2, y_orig2, label=\"calculated\")\n",
    "plt.plot(x_ax2, y_pred2, label=\"predicted\")\n",
    "plt.title(\"AQI calculated and predicted data\")\n",
    "plt.xlabel('X-axis')\n",
    "plt.ylabel('Y-axis')\n",
    "plt.legend(loc='best',fancybox=True, shadow=True)\n",
    "plt.grid(True)\n",
    "plt.show() "
   ]
  },
  {
   "cell_type": "code",
   "execution_count": 30,
   "id": "53df60e9",
   "metadata": {},
   "outputs": [
    {
     "name": "stdout",
     "output_type": "stream",
     "text": [
      "RMSE (testing) of RandomForest:  14.398662576754441\n",
      "R Squared (testing) of RandomForest: 0.9734321833852009\n"
     ]
    }
   ],
   "source": [
    "rfr_eval = RegressionEvaluator(labelCol=\"AQI\", predictionCol=\"prediction\", metricName=\"rmse\")\n",
    "RMSE = rfr_eval.evaluate(rfr_test)\n",
    "\n",
    "rfr_eval = RegressionEvaluator(labelCol=\"AQI\", predictionCol=\"prediction\", metricName=\"r2\")\n",
    "R2 = rfr_eval.evaluate(rfr_test)\n",
    "\n",
    "print(\"RMSE (testing) of RandomForest: \", RMSE)\n",
    "print(\"R Squared (testing) of RandomForest:\", R2)"
   ]
  },
  {
   "cell_type": "code",
   "execution_count": null,
   "id": "35f09150",
   "metadata": {},
   "outputs": [],
   "source": []
  },
  {
   "cell_type": "markdown",
   "id": "16d3e676",
   "metadata": {},
   "source": [
    "## Air quality level"
   ]
  },
  {
   "cell_type": "code",
   "execution_count": 31,
   "id": "3272affe",
   "metadata": {
    "scrolled": true
   },
   "outputs": [
    {
     "name": "stdout",
     "output_type": "stream",
     "text": [
      "+--------------+------+\n",
      "|Main_pollution| count|\n",
      "+--------------+------+\n",
      "|         O3_Re| 43535|\n",
      "|        SO2_Re|   118|\n",
      "|         CO_Re|   490|\n",
      "|        NO2_Re|  8590|\n",
      "|       PM10_Re| 92329|\n",
      "|       PM25_Re|228517|\n",
      "+--------------+------+\n",
      "\n"
     ]
    }
   ],
   "source": [
    "df_AQI.groupBy(\"Main_pollution\").agg(count(\"*\").alias(\"count\")).show()"
   ]
  },
  {
   "cell_type": "code",
   "execution_count": 33,
   "id": "64b04a9d",
   "metadata": {},
   "outputs": [
    {
     "name": "stdout",
     "output_type": "stream",
     "text": [
      "+------------------+------------+-----+\n",
      "|         aqi_level|     station|count|\n",
      "+------------------+------------+-----+\n",
      "|Moderate Pollution|Aotizhongxin| 2844|\n",
      "|   Light Pollution|Aotizhongxin| 5959|\n",
      "|  Severe Pollution|Aotizhongxin| 3617|\n",
      "|           Unknown|Aotizhongxin| 1552|\n",
      "|         Excellent|Aotizhongxin| 8714|\n",
      "|              Good|Aotizhongxin| 8764|\n",
      "|Moderate Pollution|   Changping| 2570|\n",
      "|   Light Pollution|   Changping| 5232|\n",
      "|           Unknown|   Changping| 1021|\n",
      "|  Severe Pollution|   Changping| 3068|\n",
      "|              Good|   Changping| 9368|\n",
      "|         Excellent|   Changping|10823|\n",
      "|Moderate Pollution|    Dingling| 2381|\n",
      "|  Severe Pollution|    Dingling| 2704|\n",
      "|              Good|    Dingling| 8442|\n",
      "|         Excellent|    Dingling|12040|\n",
      "|   Light Pollution|    Dingling| 4538|\n",
      "|           Unknown|    Dingling| 1055|\n",
      "|           Unknown|      Dongsi| 1685|\n",
      "|Moderate Pollution|      Dongsi| 2741|\n",
      "+------------------+------------+-----+\n",
      "only showing top 20 rows\n",
      "\n"
     ]
    }
   ],
   "source": [
    "level_condition = [\n",
    "    (col(\"AQI\") <= 50, \"Excellent\"),\n",
    "    (col(\"AQI\") <= 100, \"Good\"),\n",
    "    (col(\"AQI\") <= 150, \"Light Pollution\"),\n",
    "    (col(\"AQI\") <= 200, \"Moderate Pollution\"),\n",
    "    (col(\"AQI\") <= 300, \"Severe Pollution\"),\n",
    "    (col(\"AQI\") > 300, \"Serious Pollution\")\n",
    "]\n",
    "\n",
    "df_AQI = df_AQI.withColumn(\"aqi_level\", when(level_condition[0][0], level_condition[0][1])\n",
    "                                     .when(level_condition[1][0], level_condition[1][1])\n",
    "                                     .when(level_condition[2][0], level_condition[2][1])\n",
    "                                     .when(level_condition[3][0], level_condition[3][1])\n",
    "                                     .when(level_condition[4][0], level_condition[4][1])\n",
    "                                     .otherwise(\"Unknown\"))\n",
    "\n",
    "df_stations = df_AQI.groupBy(\"aqi_level\",\"station\").agg(count(\"*\").alias(\"count\"))\n",
    "df_stations.show()"
   ]
  },
  {
   "cell_type": "code",
   "execution_count": 34,
   "id": "e78524dd",
   "metadata": {},
   "outputs": [
    {
     "name": "stdout",
     "output_type": "stream",
     "text": [
      "+----+----+---+---+---+---+---+-----+\n",
      "|PM25|PM10|SO2|NO2| CO| O3|AQI|label|\n",
      "+----+----+---+---+---+---+---+-----+\n",
      "|   4|   4|  4|  7|300| 77| 24|  0.0|\n",
      "|   8|   8|  4|  7|300| 77| 24|  0.0|\n",
      "|   7|   7|  5| 10|300| 73| 23|  0.0|\n",
      "|   6|   6| 11| 11|300| 72| 22|  0.0|\n",
      "|   3|   3| 12| 12|300| 72| 22|  0.0|\n",
      "|   5|   5| 18| 18|400| 66| 21|  0.0|\n",
      "|   3|   3| 18| 32|500| 50| 16|  0.0|\n",
      "|   3|   6| 19| 41|500| 43| 20|  0.0|\n",
      "|   3|   6| 16| 43|500| 45| 22|  0.0|\n",
      "|   3|   8| 12| 28|400| 59| 18|  0.0|\n",
      "+----+----+---+---+---+---+---+-----+\n",
      "only showing top 10 rows\n",
      "\n"
     ]
    }
   ],
   "source": [
    "indexer_level = StringIndexer(inputCol=\"aqi_level\", outputCol=\"label\")\n",
    "indexer_level = indexer_level.fit(df_AQI)\n",
    "df_aqilevel = indexer_level.transform(df_AQI)\n",
    "columns = [\"PM25\", \"PM10\",\"SO2\",\"NO2\",\"CO\",\"O3\",\"AQI\",\"label\"]\n",
    "df_level = df_aqilevel.select(*columns)\n",
    "df_level.show(10)"
   ]
  },
  {
   "cell_type": "code",
   "execution_count": 35,
   "id": "05a86b07",
   "metadata": {},
   "outputs": [
    {
     "name": "stdout",
     "output_type": "stream",
     "text": [
      "+--------------------+-----+\n",
      "|            features|label|\n",
      "+--------------------+-----+\n",
      "|[4.0,4.0,4.0,7.0,...|  0.0|\n",
      "|[8.0,8.0,4.0,7.0,...|  0.0|\n",
      "|[7.0,7.0,5.0,10.0...|  0.0|\n",
      "+--------------------+-----+\n",
      "only showing top 3 rows\n",
      "\n"
     ]
    }
   ],
   "source": [
    "assembler_level_1 = VectorAssembler(inputCols=pollution_cols, outputCol='features')\n",
    "level_features_1 = assembler_level_1.transform(df_level).select('features', 'label')\n",
    "train_level_1, test_level_1 = level_features_1.randomSplit([0.67, 0.33], seed=55)\n",
    "\n",
    "level_features_1.show(3)"
   ]
  },
  {
   "cell_type": "code",
   "execution_count": 36,
   "id": "7a891b29",
   "metadata": {},
   "outputs": [
    {
     "name": "stdout",
     "output_type": "stream",
     "text": [
      "Accuracy: 0.4190648938409963\n"
     ]
    }
   ],
   "source": [
    "nb = NaiveBayes(featuresCol=\"features\", labelCol=\"label\", smoothing=1.0)\n",
    "\n",
    "modelnb = nb.fit(train_level_1)\n",
    "nb_test = modelnb.transform(test_level_1)\n",
    "\n",
    "evaluatornb = MulticlassClassificationEvaluator(predictionCol=\"prediction\", labelCol=\"label\", metricName=\"accuracy\")\n",
    "accuracy_nb = evaluatornb.evaluate(nb_test)\n",
    "\n",
    "print(\"Accuracy:\", accuracy_nb)"
   ]
  },
  {
   "cell_type": "code",
   "execution_count": 37,
   "id": "603bbee3",
   "metadata": {},
   "outputs": [
    {
     "name": "stdout",
     "output_type": "stream",
     "text": [
      "Accuracy: 56.98%\n"
     ]
    }
   ],
   "source": [
    "layers = [6, 15, 6]\n",
    "mlp = MultilayerPerceptronClassifier(featuresCol='features', labelCol='label', layers=layers, blockSize=128, seed=16)\n",
    "\n",
    "model_mlp = mlp.fit(train_level_1)\n",
    "mlp_test = model_mlp.transform(test_level_1)\n",
    "\n",
    "evaluator_mlp = MulticlassClassificationEvaluator(labelCol='label', predictionCol='prediction', metricName='accuracy')\n",
    "accuracy_mlp = evaluator_mlp.evaluate(mlp_test)\n",
    "print(\"Accuracy: {:.2f}%\".format(accuracy_mlp * 100))"
   ]
  },
  {
   "cell_type": "code",
   "execution_count": 38,
   "id": "58287802",
   "metadata": {},
   "outputs": [
    {
     "name": "stdout",
     "output_type": "stream",
     "text": [
      "+----------+-----+\n",
      "|prediction|label|\n",
      "+----------+-----+\n",
      "|       0.0|  0.0|\n",
      "|       0.0|  0.0|\n",
      "|       0.0|  0.0|\n",
      "+----------+-----+\n",
      "only showing top 3 rows\n",
      "\n",
      "The accuracy of DecisionTreeClassifier is: 0.9446774742092733\n"
     ]
    }
   ],
   "source": [
    "dt2 = DecisionTreeClassifier(maxDepth=15, labelCol=\"label\", leafCol=\"leafId\")\n",
    "modeldt2 = dt2.fit(train_level_1)\n",
    "dt_test2 = modeldt2.transform(test_level_1)\n",
    "dt_test2.select('prediction', 'label').show(3)\n",
    "\n",
    "evaluator_dt2 = MulticlassClassificationEvaluator()\n",
    "accuracy_dt2 = evaluator_dt2.evaluate(dt_test2, {evaluator_dt2.metricName: \"accuracy\"})\n",
    "print(\"The accuracy of DecisionTreeClassifier is:\",accuracy_dt2)"
   ]
  },
  {
   "cell_type": "code",
   "execution_count": 39,
   "id": "42d28e17",
   "metadata": {},
   "outputs": [
    {
     "name": "stdout",
     "output_type": "stream",
     "text": [
      "+----------+-----+\n",
      "|prediction|label|\n",
      "+----------+-----+\n",
      "|       0.0|  0.0|\n",
      "|       0.0|  0.0|\n",
      "|       0.0|  0.0|\n",
      "+----------+-----+\n",
      "only showing top 3 rows\n",
      "\n",
      "The accuracy of RandomForestClassifier is: 0.955940731403258\n"
     ]
    }
   ],
   "source": [
    "rf2 = RandomForestClassifier(numTrees=6, maxDepth=12, labelCol=\"label\", seed=42,leafCol=\"leafId\")\n",
    "modelrf2 = rf2.fit(train_level_1)\n",
    "rf_test2 = modelrf2.transform(test_level_1)\n",
    "rf_test2.select('prediction', 'label').show(3)\n",
    "\n",
    "evaluator_rf2 = MulticlassClassificationEvaluator()\n",
    "evaluator_dt2.setMetricName(\"accuracy\")\n",
    "accuracy_rf2 = evaluator_rf2.evaluate(rf_test2)\n",
    "print(\"The accuracy of RandomForestClassifier is:\",accuracy_rf2)"
   ]
  },
  {
   "cell_type": "code",
   "execution_count": 40,
   "id": "3cd89ba4",
   "metadata": {},
   "outputs": [
    {
     "name": "stdout",
     "output_type": "stream",
     "text": [
      "+--------+-----+\n",
      "|features|label|\n",
      "+--------+-----+\n",
      "|  [24.0]|  0.0|\n",
      "|  [24.0]|  0.0|\n",
      "|  [23.0]|  0.0|\n",
      "+--------+-----+\n",
      "only showing top 3 rows\n",
      "\n"
     ]
    }
   ],
   "source": [
    "features_cols = [\"AQI\"]\n",
    "assembler_level_2 = VectorAssembler(inputCols=features_cols, outputCol='features')\n",
    "level_features_2 = assembler_level_2.transform(df_level).select('features', 'label')\n",
    "train_level_2, test_level_2 = level_features_2.randomSplit([0.67, 0.33], seed=55)\n",
    "\n",
    "level_features_2.show(3)"
   ]
  },
  {
   "cell_type": "code",
   "execution_count": 41,
   "id": "dcd661ef",
   "metadata": {},
   "outputs": [
    {
     "name": "stdout",
     "output_type": "stream",
     "text": [
      "Accuracy: 1.0\n"
     ]
    }
   ],
   "source": [
    "logr = LogisticRegression(featuresCol = 'features', labelCol = 'label', maxIter=30)\n",
    "modellogr = logr.fit(train_level_2)\n",
    "logr_test = modellogr.transform(test_level_2)\n",
    "\n",
    "evaluator_logr = MulticlassClassificationEvaluator(predictionCol=\"prediction\", labelCol=\"label\", metricName=\"accuracy\")\n",
    "accuracy_logr = evaluator_logr.evaluate(logr_test)\n",
    "\n",
    "print(\"Accuracy:\", accuracy_logr)"
   ]
  },
  {
   "cell_type": "code",
   "execution_count": 42,
   "id": "ce546bc4",
   "metadata": {},
   "outputs": [],
   "source": [
    "spark.stop()"
   ]
  },
  {
   "cell_type": "code",
   "execution_count": null,
   "id": "e37c584d",
   "metadata": {},
   "outputs": [],
   "source": []
  }
 ],
 "metadata": {
  "kernelspec": {
   "display_name": "Python 3",
   "language": "python",
   "name": "python3"
  },
  "language_info": {
   "codemirror_mode": {
    "name": "ipython",
    "version": 3
   },
   "file_extension": ".py",
   "mimetype": "text/x-python",
   "name": "python",
   "nbconvert_exporter": "python",
   "pygments_lexer": "ipython3",
   "version": "3.8.8"
  }
 },
 "nbformat": 4,
 "nbformat_minor": 5
}
